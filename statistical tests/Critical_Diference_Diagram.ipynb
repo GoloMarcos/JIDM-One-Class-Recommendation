{
  "nbformat": 4,
  "nbformat_minor": 0,
  "metadata": {
    "colab": {
      "provenance": []
    },
    "kernelspec": {
      "name": "python3",
      "display_name": "Python 3"
    }
  },
  "cells": [
    {
      "cell_type": "code",
      "metadata": {
        "id": "za1l6CwH3H4Z"
      },
      "source": [
        "!pip install orange3==3.30.2"
      ],
      "execution_count": null,
      "outputs": []
    },
    {
      "cell_type": "code",
      "metadata": {
        "id": "T3Il6pBVZXkc"
      },
      "source": [
        "import Orange"
      ],
      "execution_count": 3,
      "outputs": []
    },
    {
      "cell_type": "code",
      "metadata": {
        "colab": {
          "base_uri": "https://localhost:8080/",
          "height": 181
        },
        "id": "Zf1utbnh5rrl",
        "outputId": "ee3e03a8-15fa-4ea7-c4cd-92e9df29d8bb"
      },
      "source": [
        "# BERT-i & 5\\\\\n",
        "# BERT-i-u-o & 4.3333\\\\\n",
        "# BERT-i-u-e & 4.3333\\\\\n",
        "# GNN-ETE & 3.1667\\\\\n",
        "# GNN-original & 2.0833\\\\\n",
        "# GNN-enriched & 2.0833\\\\\n",
        "\n",
        "\n",
        "names = ['BERT-i', 'BERT-i-u-o', 'BERT-i-u-e', 'GNN-ETE', 'GNN-original', 'GNN-enriched']\n",
        "\n",
        "avranks =  [5, 4.3333, 4.3333, 3.1667, 2.0833, 2.0833]\n",
        "\n",
        "cd = Orange.evaluation.scoring.compute_CD(avranks, 12) # tested on 12 scenarios\n",
        "\n",
        "Orange.evaluation.scoring.graph_ranks(avranks, names, cd=cd,filename=\"ocr.pdf\",  width=8, textspace=1)\n",
        "print(cd)"
      ],
      "execution_count": 6,
      "outputs": [
        {
          "output_type": "stream",
          "name": "stdout",
          "text": [
            "2.1764981451323555\n"
          ]
        },
        {
          "output_type": "display_data",
          "data": {
            "text/plain": [
              "<Figure size 576x133.2 with 1 Axes>"
            ],
            "image/png": "[encoded data removed]"
          },
          "metadata": {}
        }
      ]
    }
  ]
}